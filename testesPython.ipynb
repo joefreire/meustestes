{
  "nbformat": 4,
  "nbformat_minor": 0,
  "metadata": {
    "colab": {
      "name": "testesPython.ipynb",
      "provenance": [],
      "collapsed_sections": [],
      "authorship_tag": "ABX9TyNXJyuX45bMbtZYvPpA/l8Z",
      "include_colab_link": true
    },
    "kernelspec": {
      "name": "python3",
      "display_name": "Python 3"
    },
    "language_info": {
      "name": "python"
    }
  },
  "cells": [
    {
      "cell_type": "markdown",
      "metadata": {
        "id": "view-in-github",
        "colab_type": "text"
      },
      "source": [
        "<a href=\"https://colab.research.google.com/github/joefreire/meustestes/blob/master/testesPython.ipynb\" target=\"_parent\"><img src=\"https://colab.research.google.com/assets/colab-badge.svg\" alt=\"Open In Colab\"/></a>"
      ]
    },
    {
      "cell_type": "code",
      "metadata": {
        "colab": {
          "base_uri": "https://localhost:8080/"
        },
        "id": "N2Mnu0dwTeto",
        "outputId": "8627190e-d13e-48bb-bd4f-df0a3efb1cd6"
      },
      "source": [
        "# Verifica se string é palíndroma\n",
        "\n",
        "def checkPalindroma(string):\n",
        "\treturn string.lower() == string.lower()[::-1]\n",
        "\n",
        "if checkPalindroma(\"ARARA\"):\n",
        "\tprint(\"Sim\")\n",
        "else:\n",
        "\tprint(\"Não\")"
      ],
      "execution_count": 48,
      "outputs": [
        {
          "output_type": "stream",
          "text": [
            "Sim\n"
          ],
          "name": "stdout"
        }
      ]
    },
    {
      "cell_type": "code",
      "metadata": {
        "colab": {
          "base_uri": "https://localhost:8080/"
        },
        "id": "apphJZneXXp1",
        "outputId": "eef72385-e384-4116-cca3-e5cae1d9dd84"
      },
      "source": [
        "#em python os dicionarios são otimizados para busca pela chave, logo\n",
        "lista = {\n",
        "    \"Ana\" : 996214702,\n",
        "    \"Bia\" : 945257264,\n",
        "    \"Celio\" : 988185752,\n",
        "    \"Tulio\" : 965820528\n",
        "}\n",
        "nome = 'Tulio'\n",
        "if nome in lista:\n",
        "  print(lista[nome])"
      ],
      "execution_count": 31,
      "outputs": [
        {
          "output_type": "stream",
          "text": [
            "965820528\n"
          ],
          "name": "stdout"
        }
      ]
    },
    {
      "cell_type": "code",
      "metadata": {
        "colab": {
          "base_uri": "https://localhost:8080/"
        },
        "id": "X4-g41ArfaT7",
        "outputId": "b34989c0-56b2-4b9e-da28-47209df141cb"
      },
      "source": [
        "matriz = [[],[],[],[],[],[]]\n",
        "for l in range(0,4):\n",
        "        for c in range(0,6):\n",
        "                matriz[l].append('.')\n",
        "\n",
        "def imprimeMatriz(matriz):\n",
        "  print('-='*20)\n",
        "  for l in range(0,4):\n",
        "    for c in range(0,6):\n",
        "      print(f'[{matriz[l][c]:^5}]', end='')\n",
        "    print()\n",
        "\n",
        "def pintaMatriz(matriz, l, c, cor):\n",
        "  matriz[l][c] = cor\n",
        "\n",
        "imprimeMatriz(matriz)\n",
        "pintaMatriz(matriz,0,1,'c')\n",
        "imprimeMatriz(matriz)"
      ],
      "execution_count": 63,
      "outputs": [
        {
          "output_type": "stream",
          "text": [
            "-=-=-=-=-=-=-=-=-=-=-=-=-=-=-=-=-=-=-=-=\n",
            "[  .  ][  .  ][  .  ][  .  ][  .  ][  .  ]\n",
            "[  .  ][  .  ][  .  ][  .  ][  .  ][  .  ]\n",
            "[  .  ][  .  ][  .  ][  .  ][  .  ][  .  ]\n",
            "[  .  ][  .  ][  .  ][  .  ][  .  ][  .  ]\n",
            "-=-=-=-=-=-=-=-=-=-=-=-=-=-=-=-=-=-=-=-=\n",
            "[  .  ][  c  ][  .  ][  .  ][  .  ][  .  ]\n",
            "[  .  ][  .  ][  .  ][  .  ][  .  ][  .  ]\n",
            "[  .  ][  .  ][  .  ][  .  ][  .  ][  .  ]\n",
            "[  .  ][  .  ][  .  ][  .  ][  .  ][  .  ]\n"
          ],
          "name": "stdout"
        }
      ]
    }
  ]
}